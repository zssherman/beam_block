{
 "cells": [
  {
   "cell_type": "markdown",
   "metadata": {},
   "source": [
    "## Beam Block RHI\n",
    "Creating beamblock functions that use wradlib to retrieve PBB and CBB for rhi scan types. beamblock flags are then created and the PBB, CBB and flags are converted into fields in an empty radar object."
   ]
  },
  {
   "cell_type": "code",
   "execution_count": 1,
   "metadata": {
    "collapsed": false
   },
   "outputs": [
    {
     "name": "stdout",
     "output_type": "stream",
     "text": [
      "\n",
      "## You are using the Python ARM Radar Toolkit (Py-ART), an open source\n",
      "## library for working with weather radar data. Py-ART is partly\n",
      "## supported by the U.S. Department of Energy as part of the Atmospheric\n",
      "## Radiation Measurement (ARM) Climate Research Facility, an Office of\n",
      "## Science user facility.\n",
      "##\n",
      "## If you use this software to prepare a publication, please cite:\n",
      "##\n",
      "##     JJ Helmus and SM Collis, JORS 2016, doi: 10.5334/jors.119\n",
      "\n"
     ]
    },
    {
     "name": "stderr",
     "output_type": "stream",
     "text": [
      "ERROR:root:Line magic function `%install_ext` not found.\n",
      "ERROR:root:Line magic function `%install_ext` not found.\n"
     ]
    },
    {
     "name": "stdout",
     "output_type": "stream",
     "text": [
      "The autotime extension is already loaded. To reload it, use:\n",
      "  %reload_ext autotime\n"
     ]
    }
   ],
   "source": [
    "import matplotlib.pyplot as plt\n",
    "from IPython.display import Image, display\n",
    "from mpl_toolkits.basemap import Basemap\n",
    "import matplotlib.pyplot as plt\n",
    "import gdal\n",
    "import osr\n",
    "import numpy as np\n",
    "import netCDF4\n",
    "import re\n",
    "import pyart\n",
    "import wradlib as wrl\n",
    "import matplotlib\n",
    "from matplotlib import cm\n",
    "from IPython.display import Image, display\n",
    "from mpl_toolkits.basemap import Basemap\n",
    "get_ipython().magic(\n",
    "    'install_ext https://raw.github.com/cpcloud/ipython-\\\n",
    "autotime/master/autotime.py')\n",
    "get_ipython().magic('load_ext autotime')\n",
    "get_ipython().magic(\n",
    "    'install_ext https://raw.github.com/cpcloud/ipython-\\\n",
    "autotime/master/autotime.py')\n",
    "get_ipython().magic('load_ext autotime')"
   ]
  },
  {
   "cell_type": "code",
   "execution_count": 2,
   "metadata": {
    "collapsed": false
   },
   "outputs": [
    {
     "name": "stdout",
     "output_type": "stream",
     "text": [
      "time: 211 ms\n"
     ]
    }
   ],
   "source": [
    "\"\"\"\n",
    "pyart.retrieve.beam_block_calc\n",
    "=======================================\n",
    "\n",
    "Calculates partial beam block(PBB) and cumulative beam block(CBB)\n",
    "by using wradlib's beamblock and geotiff functions. PBB and CBB\n",
    "are then used to created flags when a certain beam block fraction\n",
    "is passed. Empty radar object is created using Py-ART and then\n",
    "is filled with beam block data.\n",
    "\n",
    ".. autosummary::\n",
    "    :toctreeL generated/\n",
    "    :template: dev_template.rst\n",
    "\n",
    "    beam_block\n",
    "    empty_radar_beam_block\n",
    "    beam_block_flag\n",
    "    _arrays_to_dict\n",
    "    _flags_to_dict\n",
    "\n",
    "\"\"\"\n",
    "\n",
    "import pyart\n",
    "import numpy as np\n",
    "import wradlib as wrl\n",
    "\n",
    "\n",
    "def beam_block(radar, tif_name,\n",
    "               beam_width=1.0):\n",
    "    \"\"\"\n",
    "    Beam Block Calculation\n",
    "\n",
    "    Parameters\n",
    "    ----------\n",
    "    radar : Radar\n",
    "        Radar object used.\n",
    "    tif_name : string\n",
    "        Name of geotiff file to use for the\n",
    "        calculation\n",
    "\n",
    "    Other Parameters\n",
    "    ----------------\n",
    "    beam_width : float\n",
    "        Radar's beam width for calculation.\n",
    "        Default value is 1.0.\n",
    "\n",
    "    Returns\n",
    "    -------\n",
    "    pbb : array\n",
    "        Array of partial beam block fractions for each\n",
    "        gate in each ray.\n",
    "    cbb: array\n",
    "        Array of cumulative beam block fractions for\n",
    "        each gate in each ray.\n",
    "\n",
    "    References\n",
    "    ----------\n",
    "    Bech, J., B. Codina, J. Lorente, and D. Bebbington,\n",
    "    2003: The sensitivity of single polarization weather\n",
    "    radar beam blockage correction to variability in the\n",
    "    vertical refractivity gradient. J. Atmos. Oceanic\n",
    "    Technol., 20, 845–855\n",
    "\n",
    "    Heistermann, M., Jacobi, S., and Pfaff, T., 2013:\n",
    "    Technical Note: An open source library for processing\n",
    "    weather radar data (wradlib), Hydrol. Earth Syst.\n",
    "    Sci., 17, 863-871, doi:10.5194/hess-17-863-2013\n",
    "    \n",
    "    Helmus, J.J. & Collis, S.M., (2016). The Python ARM\n",
    "    Radar Toolkit (Py-ART), a Library for Working with\n",
    "    Weather Radar Data in the Python Programming Language.\n",
    "    Journal of Open Research Software. 4(1), p.e25.\n",
    "    DOI: http://doi.org/10.5334/jors.119\n",
    "\n",
    "    \"\"\"\n",
    "\n",
    "    radar.fields.clear()\n",
    "    _range = radar.range['data']\n",
    "    #beam_width = np.float(radar.instrument_parameters[\n",
    "        #'radar_beam_width_v']['data'])\n",
    "    beamradius = wrl.util.half_power_radius(_range, beam_width)\n",
    "\n",
    "    rasterfile = tif_name\n",
    "    data_raster = wrl.io.open_raster(rasterfile)\n",
    "    proj_raster = wrl.georef.wkt_to_osr(data_raster.GetProjection())\n",
    "    rastercoords, rastervalues = wrl.io.read_raster_data(rasterfile)\n",
    "    sitecoords = (np.float(radar.longitude['data']),\n",
    "                  np.float(radar.latitude['data']),\n",
    "                  np.float(radar.altitude['data']))\n",
    "\n",
    "    nrays = radar.nrays\n",
    "    nbins = radar.ngates\n",
    "    elev = radar.elevation['data']\n",
    "    azimuths = radar.azimuth['data']\n",
    "\n",
    "    rg, azg = np.meshgrid(_range, azimuths)\n",
    "    rg, eleg = np.meshgrid(_range, elev)\n",
    "    lon, lat, alt = wrl.georef.polar2lonlatalt_n(rg, azg,\n",
    "                                                 eleg, sitecoords)\n",
    "    #lon = radar.gate_longitude['data']\n",
    "    #lat = radar.gate_latitude['data']\n",
    "    #alt = radar.gate_altitude['data']\n",
    "    x_pol, y_pol,  = wrl.georef.reproject(\n",
    "        lon, lat, projection_target=proj_raster)\n",
    "    polcoords = np.dstack((x_pol, y_pol))\n",
    "\n",
    "    rlimits = (x_pol.min(), y_pol.min(),\n",
    "               x_pol.max(), y_pol.max())\n",
    "    # Clip the region inside our bounding box\n",
    "    ind = wrl.util.find_bbox_indices(rastercoords, rlimits)\n",
    "    rastercoords = rastercoords[ind[1]:ind[3], ind[0]:ind[2], ...]\n",
    "    rastervalues = rastervalues[ind[1]:ind[3], ind[0]:ind[2]]\n",
    "\n",
    "    # Map rastervalues to polar grid points\n",
    "    polarvalues = wrl.ipol.cart2irregular_spline(\n",
    "        rastercoords, rastervalues, polcoords)\n",
    "    #bh = wrl.qual.beam_height_ft_doviak(\n",
    "       # _range, elev, degrees=True, re=6371000)\n",
    "\n",
    "    pbb = wrl.qual.beam_block_frac(polarvalues, alt, beamradius)\n",
    "    pbb = np.ma.masked_invalid(pbb)\n",
    "    maxindex = np.nanargmax(pbb, axis=1)\n",
    "    cbb = np.copy(pbb)\n",
    "    # Iterate over all beams\n",
    "    for ii, index in enumerate(maxindex):\n",
    "        premax = 0.\n",
    "        for jj in range(index):\n",
    "            # Only iterate to max index to make this faster\n",
    "            if pbb[ii, jj] > premax:\n",
    "                cbb[ii, jj] = pbb[ii, jj]\n",
    "                premax = cbb[ii, jj]\n",
    "            else:\n",
    "                cbb[ii, jj] = premax\n",
    "        # beyond max index, everything is max anyway\n",
    "        cbb[ii, index:] = pbb[ii, index]\n",
    "    \n",
    "    return pbb, cbb\n",
    "\n",
    "def beam_block_flag(pbb_all, cbb_all, pbb_threshold,\n",
    "                    cbb_threshold):\n",
    "    \"\"\" Takes PBB and CBB arrays created from the\n",
    "    beam_block function and user chosen thresholds\n",
    "    to create and array of 1s and 0s, 1 is a flagged gate\n",
    "    where the fraction value is past the threshold. \"\"\"\n",
    "    pbb_flags = np.empty_like(pbb_all)\n",
    "    pbb_flags[pbb_all > pbb_threshold] = True\n",
    "    pbb_flags[pbb_all < pbb_threshold] = False\n",
    "\n",
    "    cbb_flags = np.empty_like(cbb_all)\n",
    "    cbb_flags[cbb_all > cbb_threshold] = True\n",
    "    cbb_flags[cbb_all < cbb_threshold] = False\n",
    "    return pbb_flags, cbb_flags\n",
    "\n",
    "def empty_radar_beam_block_rhi(ngates, rays_per_sweep, nsweeps,\n",
    "                               lon, lat, alt, range_start,\n",
    "                               gate_space, azimuth, elev_start,\n",
    "                               elev_end):\n",
    "    \"\"\" Creates a radar object with no fields based on\n",
    "    user inputed dimensions. The empty radar is to then\n",
    "    be used to add PBB, CBB and the flags for both. \"\"\"\n",
    "    radar = pyart.testing.make_empty_rhi_radar(\n",
    "        ngates, rays_per_sweep, nsweeps)\n",
    "    nrays = rays_per_sweep * nsweeps\n",
    "    radar.longitude['data'] = np.array([lon])\n",
    "    radar.latitude['data'] = np.array([lat])\n",
    "    radar.altitude['data'] = np.array([alt])\n",
    "    # radar.azimuth['data'] = np.linspace(0, 360, rays_per_sweep)\n",
    "    radar.range['data'] = np.linspace(\n",
    "        range_start, (ngates - 1)*gate_space + range_start, ngates)\n",
    "    radar.elevation['data'] = np.linspace(elev_start, elev_end, nrays)\n",
    "    radar.azimuth['data'] = np.array([azimuth] * nrays)\n",
    "    radar.fixed_angle['data'] = np.array([azimuth])\n",
    "    radar.metadata['instrument_name'] = 'beam_block_radar_object'\n",
    "    return radar\n",
    "\n",
    "def empty_radar_beam_block_ppi(ngates, rays_per_sweep, nsweeps,\n",
    "                           lon, lat, alt, range_start,\n",
    "                           gate_space, elevations):\n",
    "    \"\"\" Creates a radar object with no fields based on\n",
    "    user inputed dimensions. The empty radar is to then\n",
    "    be used to add PBB, CBB and the flags for both. \"\"\"\n",
    "    radar = pyart.testing.make_empty_ppi_radar(\n",
    "        ngates, rays_per_sweep, nsweeps)\n",
    "    radar.longitude['data'] = np.array([lon])\n",
    "    radar.latitude['data'] = np.array([lat])\n",
    "    radar.altitude['data'] = np.array([alt])\n",
    "    radar.azimuth['data'] = np.linspace(0, 360, rays_per_sweep)\n",
    "    radar.range['data'] = np.linspace(\n",
    "        range_start, (ngates - 1)*gate_space + range_start, ngates)\n",
    "    radar.fixed_angle['data'] = elevations\n",
    "    radar.elevation['data'] = np.array([elevations] * rays_per_sweep)\n",
    "    radar.metadata['instrument_name'] = 'beam_block_radar_object'\n",
    "    return radar\n",
    "\n",
    "def _arrays_to_dict(pbb_all, cbb_all):\n",
    "    \"\"\" Function that takes the PBB and CBB arrays\n",
    "    and turns them into dictionaries to be used and added\n",
    "    to the pyart radar object. \"\"\"\n",
    "    pbb_dict = {}\n",
    "    pbb_dict['coordinates'] = 'elevation, azimuth, range'\n",
    "    pbb_dict['units'] = 'unitless'\n",
    "    pbb_dict['data'] = pbb_all\n",
    "    pbb_dict['standard_name'] = 'partial_beam_block'\n",
    "    pbb_dict['long_name'] = 'Partial Beam Block Fraction'\n",
    "    pbb_dict['comment'] = 'Partial beam block fraction due to terrain'\n",
    "\n",
    "    cbb_dict = {}\n",
    "    cbb_dict['coordinates'] = 'elevation, azimuth, range'\n",
    "    cbb_dict['units'] = 'unitless'\n",
    "    cbb_dict['data'] = cbb_all\n",
    "    cbb_dict['standard_name'] = 'cumulative_beam_block'\n",
    "    cbb_dict['long_name'] = 'Cumulative Beam Block Fraction'\n",
    "    cbb_dict['comment'] = 'Cumulative beam block fraction due to terrain'\n",
    "    return pbb_dict, cbb_dict\n",
    "\n",
    "def _flags_to_dict(pbb_flags, cbb_flags):\n",
    "    \"\"\" Function that takes the PBB_flag and CBB_flag\n",
    "    arrays and turns them into dictionaries to be used\n",
    "    and added to the pyart radar object. \"\"\"\n",
    "    pbb_flag_dict = {}\n",
    "    pbb_flag_dict['units'] = 'unitless'\n",
    "    pbb_flag_dict['data'] = pbb_flags\n",
    "    pbb_flag_dict['standard_name'] = 'partial_beam_block_flag'\n",
    "    pbb_flag_dict['long_name'] = 'Partial Beam Block Flag'\n",
    "    pbb_flag_dict['comment'] = 'Partial beam block fraction flag, ' \\\n",
    "                            '1 for flagged values, 0 for non-flagged.'\n",
    "\n",
    "    cbb_flag_dict = {}\n",
    "    cbb_flag_dict['units'] = 'unitless'\n",
    "    cbb_flag_dict['data'] = cbb_flags\n",
    "    cbb_flag_dict['standard_name'] = 'cumulative_beam_block_flag'\n",
    "    cbb_flag_dict['long_name'] = 'Cumulative Beam Block Flag'\n",
    "    cbb_flag_dict['comment'] = 'Cumulative beam block fraction flag, ' \\\n",
    "                            '1 for flagged values, 0 for non-flagged.'\n",
    "    return pbb_flag_dict, cbb_flag_dict"
   ]
  },
  {
   "cell_type": "code",
   "execution_count": 3,
   "metadata": {
    "collapsed": false
   },
   "outputs": [
    {
     "name": "stdout",
     "output_type": "stream",
     "text": [
      "time: 13.8 ms\n"
     ]
    }
   ],
   "source": [
    "def empty_radar_beam_block(filename):\n",
    "    \"\"\" Creates a radar object with no fields based on\n",
    "    user inputed dimensions. The empty radar is to then\n",
    "    be used to add PBB, CBB and the flags for both. \"\"\"\n",
    "    radar = pyart.io.read(filename)\n",
    "    ngates = radar.ngates\n",
    "    nrays = radar.nrays\n",
    "    nsweeps = radar.nsweeps\n",
    "\n",
    "    empty_radar = pyart.testing.make_empty_rhi_radar(\n",
    "        ngates, 1, nsweeps)\n",
    "    empty_radar.nrays = nrays\n",
    "    empty_radar.time = radar.time\n",
    "    empty_radar.longitude = radar.longitude\n",
    "    empty_radar.latitude = radar.latitude\n",
    "    empty_radar.altitude = radar.altitude\n",
    "    empty_radar.range = radar.range\n",
    "    empty_radar.elevation = radar.elevation\n",
    "    empty_radar.azimuth = radar.azimuth\n",
    "    empty_radar.fixed_angle = radar.fixed_angle\n",
    "    empty_radar.metadata = radar.metadata\n",
    "    \n",
    "    ray_start = []\n",
    "    ray_end = []\n",
    "    for i in range(len(radar.sweep_start_ray_index['data'])):\n",
    "        index_start = radar.sweep_start_ray_index['data'][i]\n",
    "        index_end = radar.sweep_end_ray_index['data'][i]\n",
    "        ray_start.append(index_start)\n",
    "        ray_end.append(index_end)\n",
    "\n",
    "    empty_radar.sweep_start_ray_index['data'] = np.array(ray_start)\n",
    "    empty_radar.sweep_end_ray_index['data'] = np.array(ray_end)\n",
    "    return empty_radar"
   ]
  },
  {
   "cell_type": "code",
   "execution_count": 4,
   "metadata": {
    "collapsed": false
   },
   "outputs": [
    {
     "name": "stdout",
     "output_type": "stream",
     "text": [
      "time: 4.27 ms\n"
     ]
    }
   ],
   "source": [
    "# Examples\n",
    "# --------\n",
    "# >>> import pyart\n",
    "# >>> radar = pyart.io.read('radar_file.nc')\n",
    "# >>> gatefilter = pyart.correct.GateFilter(radar)\n",
    "# >>> beam_block = radar.fields['partial_beam_block_flag']['data']\n",
    "# >>> gatefilter.exclude_beam_block(beam_block)\n",
    "\n",
    "def exclude_beam_block(self, beam_block, exclude_masked=True, op='or'):\n",
    "    \"\"\"\n",
    "    Exclude gates where a beam block is equal to True.\n",
    "\n",
    "    Parameters\n",
    "    ----------\n",
    "    beam_block : numpy array\n",
    "        Boolean numpy array with same shape as a field array.\n",
    "    exclude_masked : bool, optional\n",
    "        True to filter masked values in the specified mask if it is\n",
    "        a masked array, False to include any masked values.\n",
    "    op : {'and', 'or', 'new'}\n",
    "        Operation to perform when merging the existing set of excluded\n",
    "        gates with the excluded gates from the current operation.\n",
    "        'and' will perform a logical AND operation, 'or' a logical OR,\n",
    "        and 'new' will replace the existing excluded gates with the one\n",
    "        generated here. 'or', the default for exclude methods, is\n",
    "        typically desired when building up a set of conditions for\n",
    "        excluding gates where the desired effect is to exclude gates which\n",
    "        meet any of the conditions. 'and', the default for include\n",
    "        methods, is typically desired when building up a set of conditions\n",
    "        where the desired effect is to include gates which meet any of the\n",
    "        conditions.  Note that the 'and' method MAY results in including\n",
    "        gates which have previously been excluded because they were masked\n",
    "        or invalid.\n",
    "\n",
    "    \"\"\"\n",
    "\n",
    "    fdata = next(iter(self._radar.fields.values()))['data']\n",
    "    if beam_block.shape != fdata.shape:\n",
    "        raise ValueError(\"beam_block array must be the same size as a field.\")\n",
    "    marked = np.array(beam_block, dtype='bool')\n",
    "    return self._merge(marked, op, exclude_masked)"
   ]
  },
  {
   "cell_type": "code",
   "execution_count": 5,
   "metadata": {
    "collapsed": false
   },
   "outputs": [
    {
     "name": "stdout",
     "output_type": "stream",
     "text": [
      "time: 4.51 ms\n"
     ]
    }
   ],
   "source": [
    "azimuth = 147\n",
    "radar = empty_radar_beam_block_rhi(983, 361, 1, -28.0257,\n",
    "                                       39.0916, 40.0, 0, 100,\n",
    "                                       azimuth, 0, 90)"
   ]
  },
  {
   "cell_type": "code",
   "execution_count": 6,
   "metadata": {
    "collapsed": false
   },
   "outputs": [
    {
     "name": "stdout",
     "output_type": "stream",
     "text": [
      "time: 857 µs\n"
     ]
    }
   ],
   "source": [
    "tif_name = '/home/zsherman/beam_block/data/dtm_gra.tif'"
   ]
  },
  {
   "cell_type": "code",
   "execution_count": 7,
   "metadata": {
    "collapsed": false
   },
   "outputs": [
    {
     "name": "stdout",
     "output_type": "stream",
     "text": [
      "time: 660 ms\n"
     ]
    },
    {
     "name": "stderr",
     "output_type": "stream",
     "text": [
      "/home/zsherman/anaconda3/envs/gdal_jupyter/lib/python3.5/site-packages/wradlib/qual.py:205: RuntimeWarning: invalid value encountered in sqrt\n",
      "  (a ** 2 * np.arcsin(y / a)) + (np.pi * a ** 2 / 2.)\n",
      "/home/zsherman/anaconda3/envs/gdal_jupyter/lib/python3.5/site-packages/wradlib/qual.py:205: RuntimeWarning: divide by zero encountered in true_divide\n",
      "  (a ** 2 * np.arcsin(y / a)) + (np.pi * a ** 2 / 2.)\n",
      "/home/zsherman/anaconda3/envs/gdal_jupyter/lib/python3.5/site-packages/wradlib/qual.py:205: RuntimeWarning: invalid value encountered in arcsin\n",
      "  (a ** 2 * np.arcsin(y / a)) + (np.pi * a ** 2 / 2.)\n"
     ]
    }
   ],
   "source": [
    "pbb_all, cbb_all = beam_block(\n",
    "    radar, tif_name, 1.0)"
   ]
  },
  {
   "cell_type": "code",
   "execution_count": 8,
   "metadata": {
    "collapsed": false,
    "scrolled": true
   },
   "outputs": [
    {
     "name": "stdout",
     "output_type": "stream",
     "text": [
      "0.999756487496\n",
      "0.999756487496\n",
      "time: 2.14 ms\n"
     ]
    }
   ],
   "source": [
    "print(pbb_all.max())\n",
    "print(cbb_all.max())"
   ]
  },
  {
   "cell_type": "code",
   "execution_count": 9,
   "metadata": {
    "collapsed": false
   },
   "outputs": [
    {
     "name": "stdout",
     "output_type": "stream",
     "text": [
      "time: 3.85 ms\n"
     ]
    },
    {
     "name": "stderr",
     "output_type": "stream",
     "text": [
      "/home/zsherman/anaconda3/envs/gdal_jupyter/lib/python3.5/site-packages/ipykernel/__main__.py:146: RuntimeWarning: invalid value encountered in greater\n",
      "/home/zsherman/anaconda3/envs/gdal_jupyter/lib/python3.5/site-packages/ipykernel/__main__.py:147: RuntimeWarning: invalid value encountered in less\n"
     ]
    }
   ],
   "source": [
    "pbb_flags, cbb_flags = beam_block_flag(\n",
    "    pbb_all, cbb_all, 0.2, 0.2)"
   ]
  },
  {
   "cell_type": "code",
   "execution_count": 10,
   "metadata": {
    "collapsed": false
   },
   "outputs": [
    {
     "name": "stdout",
     "output_type": "stream",
     "text": [
      "time: 1.17 ms\n"
     ]
    }
   ],
   "source": [
    "pbb_dict, cbb_dict = _arrays_to_dict(\n",
    "    pbb_all, cbb_all)\n",
    "pbb_flag_dict, cbb_flag_dict = _flags_to_dict(\n",
    "    pbb_flags, cbb_flags)"
   ]
  },
  {
   "cell_type": "code",
   "execution_count": 11,
   "metadata": {
    "collapsed": false
   },
   "outputs": [
    {
     "name": "stdout",
     "output_type": "stream",
     "text": [
      "time: 1.95 ms\n"
     ]
    }
   ],
   "source": [
    "radar.add_field('partial_beam_block',\n",
    "                pbb_dict, replace_existing=True)\n",
    "radar.add_field('cumulative_beam_block',\n",
    "                cbb_dict, replace_existing=True)\n",
    "radar.add_field('partial_beam_block_flag',\n",
    "                pbb_flag_dict, replace_existing=True)\n",
    "radar.add_field('cumulative_beam_block_flag',\n",
    "                cbb_flag_dict, replace_existing=True)"
   ]
  },
  {
   "cell_type": "code",
   "execution_count": 12,
   "metadata": {
    "collapsed": false
   },
   "outputs": [
    {
     "name": "stdout",
     "output_type": "stream",
     "text": [
      "time: 86.4 ms\n"
     ]
    }
   ],
   "source": [
    "pyart.io.write_cfradial(\n",
    "    '/home/zsherman/beam_block/data/radar_object_rhi.nc', radar)"
   ]
  },
  {
   "cell_type": "code",
   "execution_count": 13,
   "metadata": {
    "collapsed": false
   },
   "outputs": [
    {
     "name": "stdout",
     "output_type": "stream",
     "text": [
      "time: 51.6 ms\n"
     ]
    }
   ],
   "source": [
    "bb_radar = pyart.io.read(\n",
    "    '/home/zsherman/beam_block/data/radar_object_rhi.nc')"
   ]
  },
  {
   "cell_type": "code",
   "execution_count": 14,
   "metadata": {
    "collapsed": false
   },
   "outputs": [
    {
     "data": {
      "text/plain": [
       "(784, 2)"
      ]
     },
     "execution_count": 14,
     "metadata": {},
     "output_type": "execute_result"
    },
    {
     "name": "stdout",
     "output_type": "stream",
     "text": [
      "time: 3.99 ms\n"
     ]
    }
   ],
   "source": [
    "np.argwhere(bb_radar.fields[\n",
    "    'partial_beam_block_flag']['data'] == 1).shape"
   ]
  },
  {
   "cell_type": "code",
   "execution_count": 15,
   "metadata": {
    "collapsed": false
   },
   "outputs": [
    {
     "data": {
      "text/plain": [
       "masked_array(data =\n",
       " [[-- -- -- ..., 0.0 0.0 0.0]\n",
       " [-- -- -- ..., -- -- --]\n",
       " [-- -- -- ..., -- -- --]\n",
       " ..., \n",
       " [-- -- -- ..., -- -- --]\n",
       " [-- -- -- ..., -- -- --]\n",
       " [-- -- -- ..., -- -- --]],\n",
       "             mask =\n",
       " [[ True  True  True ..., False False False]\n",
       " [ True  True  True ...,  True  True  True]\n",
       " [ True  True  True ...,  True  True  True]\n",
       " ..., \n",
       " [ True  True  True ...,  True  True  True]\n",
       " [ True  True  True ...,  True  True  True]\n",
       " [ True  True  True ...,  True  True  True]],\n",
       "       fill_value = 9.96920996839e+36)"
      ]
     },
     "execution_count": 15,
     "metadata": {},
     "output_type": "execute_result"
    },
    {
     "name": "stdout",
     "output_type": "stream",
     "text": [
      "time: 2.23 ms\n"
     ]
    }
   ],
   "source": [
    "bb_radar.fields[\n",
    "    'partial_beam_block_flag']['data']"
   ]
  },
  {
   "cell_type": "code",
   "execution_count": 16,
   "metadata": {
    "collapsed": false
   },
   "outputs": [
    {
     "data": {
      "text/plain": [
       "(556, 2)"
      ]
     },
     "execution_count": 16,
     "metadata": {},
     "output_type": "execute_result"
    },
    {
     "name": "stdout",
     "output_type": "stream",
     "text": [
      "time: 2.93 ms\n"
     ]
    }
   ],
   "source": [
    "np.argwhere(bb_radar.fields['partial_beam_block']['data'] > 0.25).shape"
   ]
  },
  {
   "cell_type": "code",
   "execution_count": 17,
   "metadata": {
    "collapsed": false
   },
   "outputs": [
    {
     "data": {
      "image/png": "[encoded data removed]",
      "text/plain": [
       "<matplotlib.figure.Figure at 0x7f9d0993d550>"
      ]
     },
     "metadata": {},
     "output_type": "display_data"
    },
    {
     "name": "stdout",
     "output_type": "stream",
     "text": [
      "time: 578 ms\n"
     ]
    }
   ],
   "source": [
    "PBB = bb_radar.fields['partial_beam_block']['data']\n",
    "CBB = bb_radar.fields['cumulative_beam_block']['data']\n",
    "r = bb_radar.range['data']\n",
    "th = bb_radar.elevation['data']\n",
    "az = bb_radar.azimuth['data']\n",
    "fig = plt.figure(figsize=(10, 7))\n",
    "angle=520\n",
    "ax, dem = wrl.vis.plot_rhi(CBB, r=r,\n",
    "                           th=th,\n",
    "                           cmap=plt.cm.PuRd)\n",
    "ax.set_xlim(0, 12000)\n",
    "ax.set_ylim(0, 1000)\n",
    "ax.plot(0, 0, 'ro', )\n",
    "ax.grid(True)\n",
    "ax.annotate('  ARM ENA Site', (0, 0))\n",
    "\n",
    "ax.set_title('Partial Beam Block 2.0 Degrees')\n",
    "ax.set_xlabel(\"Meters\")\n",
    "ax.set_ylabel(\"Meters\")\n",
    "ax.set_axis_bgcolor('#E0E0E0')\n",
    "plt.colorbar(dem, ax=ax)\n",
    "plt.show()"
   ]
  },
  {
   "cell_type": "code",
   "execution_count": 18,
   "metadata": {
    "collapsed": false
   },
   "outputs": [
    {
     "name": "stdout",
     "output_type": "stream",
     "text": [
      "time: 1.72 ms\n"
     ]
    }
   ],
   "source": [
    "azimuth = 147\n",
    "radar = empty_radar_beam_block_rhi(1600, 540, 1, -28.0257,\n",
    "                                39.0916, 40.0, 0, 10,\n",
    "                                azimuth, 0.8, 90)\n",
    "tif_name = '/home/zsherman/beam_block/data/dtm_gra.tif'"
   ]
  },
  {
   "cell_type": "code",
   "execution_count": 19,
   "metadata": {
    "collapsed": false
   },
   "outputs": [
    {
     "data": {
      "text/plain": [
       "{'data': array([ 39.0916]),\n",
       " 'long_name': 'Latitude',\n",
       " 'standard_name': 'Latitude',\n",
       " 'units': 'degrees_north'}"
      ]
     },
     "execution_count": 19,
     "metadata": {},
     "output_type": "execute_result"
    },
    {
     "name": "stdout",
     "output_type": "stream",
     "text": [
      "time: 2.91 ms\n"
     ]
    }
   ],
   "source": [
    "radar.latitude"
   ]
  },
  {
   "cell_type": "code",
   "execution_count": 20,
   "metadata": {
    "collapsed": false
   },
   "outputs": [
    {
     "name": "stdout",
     "output_type": "stream",
     "text": [
      "time: 1.67 s\n"
     ]
    },
    {
     "name": "stderr",
     "output_type": "stream",
     "text": [
      "/home/zsherman/anaconda3/envs/gdal_jupyter/lib/python3.5/site-packages/wradlib/qual.py:205: RuntimeWarning: invalid value encountered in sqrt\n",
      "  (a ** 2 * np.arcsin(y / a)) + (np.pi * a ** 2 / 2.)\n",
      "/home/zsherman/anaconda3/envs/gdal_jupyter/lib/python3.5/site-packages/wradlib/qual.py:205: RuntimeWarning: divide by zero encountered in true_divide\n",
      "  (a ** 2 * np.arcsin(y / a)) + (np.pi * a ** 2 / 2.)\n",
      "/home/zsherman/anaconda3/envs/gdal_jupyter/lib/python3.5/site-packages/wradlib/qual.py:205: RuntimeWarning: invalid value encountered in arcsin\n",
      "  (a ** 2 * np.arcsin(y / a)) + (np.pi * a ** 2 / 2.)\n"
     ]
    }
   ],
   "source": [
    "beam_width = 1.0\n",
    "radar.fields.clear()\n",
    "_range = radar.range['data']\n",
    "#beam_width = np.float(radar.instrument_parameters[\n",
    "    #'radar_beam_width_v']['data'])\n",
    "beamradius = wrl.util.half_power_radius(_range, beam_width)\n",
    "\n",
    "rasterfile = tif_name\n",
    "data_raster = wrl.io.open_raster(rasterfile)\n",
    "proj_raster = wrl.georef.wkt_to_osr(data_raster.GetProjection())\n",
    "rastercoords, rastervalues = wrl.io.read_raster_data(rasterfile)\n",
    "sitecoords = (np.float(radar.longitude['data']),\n",
    "              np.float(radar.latitude['data']),\n",
    "              np.float(radar.altitude['data']))\n",
    "\n",
    "nrays = radar.nrays\n",
    "nbins = radar.ngates\n",
    "elev = radar.elevation['data']\n",
    "azimuths = radar.azimuth['data']\n",
    "\n",
    "rg, azg = np.meshgrid(_range, azimuths)\n",
    "rg, eleg = np.meshgrid(_range, elev)\n",
    "lon, lat, alt = wrl.georef.polar2lonlatalt_n(rg, azg,\n",
    "                                             eleg, sitecoords)\n",
    "#lon = radar.gate_longitude['data']\n",
    "#lat = radar.gate_latitude['data']\n",
    "#alt = radar.gate_altitude['data']\n",
    "x_pol, y_pol  = wrl.georef.reproject(\n",
    "    lon, lat, projection_target=proj_raster)\n",
    "polcoords = np.dstack((x_pol, y_pol))\n",
    "\n",
    "rlimits = (x_pol.min(), y_pol.min(),\n",
    "           x_pol.max(), y_pol.max())\n",
    "# Clip the region inside our bounding box\n",
    "ind = wrl.util.find_bbox_indices(rastercoords, rlimits)\n",
    "rastercoords = rastercoords[ind[1]:ind[3], ind[0]:ind[2], ...]\n",
    "rastervalues = rastervalues[ind[1]:ind[3], ind[0]:ind[2]]\n",
    "\n",
    "# Map rastervalues to polar grid points\n",
    "polarvalues = wrl.ipol.cart2irregular_spline(\n",
    "    rastercoords, rastervalues, polcoords)\n",
    "\n",
    "pbb = wrl.qual.beam_block_frac(polarvalues, alt, beamradius)\n",
    "pbb = np.ma.masked_invalid(pbb)\n",
    "\n",
    "maxindex = np.nanargmax(pbb, axis=1)\n",
    "cbb = np.copy(pbb)\n",
    "# Iterate over all beams\n",
    "for ii, index in enumerate(maxindex):\n",
    "    premax = 0.\n",
    "    for jj in range(index):\n",
    "        # Only iterate to max index to make this faster\n",
    "        if pbb[ii, jj] > premax:\n",
    "            cbb[ii, jj] = pbb[ii, jj]\n",
    "            premax = pbb[ii, jj]\n",
    "        else:\n",
    "            cbb[ii, jj] = premax\n",
    "    # beyond max index, everything is max anyway\n",
    "    cbb[ii, index:] = pbb[ii, index]"
   ]
  },
  {
   "cell_type": "code",
   "execution_count": 21,
   "metadata": {
    "collapsed": false,
    "scrolled": false
   },
   "outputs": [
    {
     "data": {
      "image/png": "[encoded data removed]",
      "text/plain": [
       "<matplotlib.figure.Figure at 0x7f9d449714e0>"
      ]
     },
     "metadata": {},
     "output_type": "display_data"
    },
    {
     "name": "stdout",
     "output_type": "stream",
     "text": [
      "time: 1.6 s\n"
     ]
    }
   ],
   "source": [
    "r = radar.range['data']\n",
    "th = radar.elevation['data']\n",
    "az = radar.azimuth['data']\n",
    "fig = plt.figure(figsize=(10, 7))\n",
    "ax, dem = wrl.vis.plot_rhi(cbb, r=r,\n",
    "                           th=th, vmin=0, vmax=1,\n",
    "                           cmap=plt.cm.PuRd)\n",
    "\n",
    "ax.fill_between(r, 0.0,\n",
    "                polarvalues[0, :]-40,\n",
    "                color='0.45')\n",
    "ax.set_xlim(0, 11000)\n",
    "ax.set_ylim(0, 1000)\n",
    "ax.plot(0, 0, 'ro', markersize=15)\n",
    "ax.grid(True)\n",
    "ax.annotate('  ARM ENA Site', (0, 50))\n",
    "ax.set_title(\n",
    "    'Cumulative Beam Block Azimuth ' + str(azimuth) +\n",
    "    ' Degrees \\n Elevation 0.8 degrees to 90 degrees')\n",
    "ax.set_xlabel(\"Meters From Radar\")\n",
    "ax.set_ylabel(\"Meters Above Radar\")\n",
    "ax.set_axis_bgcolor('#E0E0E0')\n",
    "plt.colorbar(dem, ax=ax)\n",
    "plt.savefig('/home/zsherman/beam_block/images/rhi_az147_gate10m.png',\n",
    "            bbox_inches='tight')\n",
    "plt.show()"
   ]
  },
  {
   "cell_type": "code",
   "execution_count": 22,
   "metadata": {
    "collapsed": false
   },
   "outputs": [
    {
     "name": "stdout",
     "output_type": "stream",
     "text": [
      "time: 3.48 ms\n"
     ]
    }
   ],
   "source": [
    "mdv = pyart.io.read(\n",
    "    '/home/zsherman/Downloads/example_mdv_rhi.mdv')"
   ]
  },
  {
   "cell_type": "code",
   "execution_count": 23,
   "metadata": {
    "collapsed": false
   },
   "outputs": [
    {
     "data": {
      "text/plain": [
       "1"
      ]
     },
     "execution_count": 23,
     "metadata": {},
     "output_type": "execute_result"
    },
    {
     "name": "stdout",
     "output_type": "stream",
     "text": [
      "time: 1.5 ms\n"
     ]
    }
   ],
   "source": [
    "mdv.nsweeps"
   ]
  },
  {
   "cell_type": "code",
   "execution_count": 24,
   "metadata": {
    "collapsed": false
   },
   "outputs": [
    {
     "data": {
      "text/plain": [
       "(283,)"
      ]
     },
     "execution_count": 24,
     "metadata": {},
     "output_type": "execute_result"
    },
    {
     "name": "stdout",
     "output_type": "stream",
     "text": [
      "time: 1.68 ms\n"
     ]
    }
   ],
   "source": [
    "mdv.azimuth['data'].shape"
   ]
  },
  {
   "cell_type": "code",
   "execution_count": 25,
   "metadata": {
    "collapsed": false
   },
   "outputs": [
    {
     "data": {
      "text/plain": [
       "(283,)"
      ]
     },
     "execution_count": 25,
     "metadata": {},
     "output_type": "execute_result"
    },
    {
     "name": "stdout",
     "output_type": "stream",
     "text": [
      "time: 1.45 ms\n"
     ]
    }
   ],
   "source": [
    "mdv.elevation['data'].shape"
   ]
  },
  {
   "cell_type": "code",
   "execution_count": 26,
   "metadata": {
    "collapsed": false,
    "scrolled": true
   },
   "outputs": [
    {
     "data": {
      "text/plain": [
       "array([ 19.60000038,  19.85000038,  20.10000038,  20.35000038,\n",
       "        20.60000038,  20.85000038,  21.10000038,  21.35000038,\n",
       "        21.60000038,  21.85000038,  22.10000038,  22.35000038,\n",
       "        22.60000038,  22.85000038,  23.10000038,  23.35000038,\n",
       "        23.60000038,  23.85000038,  24.10000038,  24.35000038,\n",
       "        24.60000038,  24.85000038,  25.10000038,  25.35000038,\n",
       "        25.60000038,  25.85000038,  26.10000038,  26.35000038,\n",
       "        26.60000038,  26.85000038,  27.10000038,  27.35000038,\n",
       "        27.60000038,  27.85000038,  28.10000038,  28.35000038,\n",
       "        28.60000038,  28.85000038,  29.10000038,  29.35000038,\n",
       "        29.60000038,  29.85000038,  30.10000038,  30.35000038,\n",
       "        30.60000038,  30.85000038,  31.10000038,  31.35000038,\n",
       "        31.60000038,  31.85000038,  32.10000038,  32.35000038,\n",
       "        32.60000038,  32.85000038,  33.10000038,  33.35000038,\n",
       "        33.60000038,  33.85000038,  34.10000038,  34.35000038,\n",
       "        34.60000038,  34.85000038,  35.10000038,  35.35000038,\n",
       "        35.60000038,  35.85000038,  36.10000038,  36.35000038,\n",
       "        36.60000038,  36.85000038,  37.10000038,  37.35000038,\n",
       "        37.60000038,  37.85000038,  38.10000038,  38.35000038,\n",
       "        38.60000038,  38.85000038,  39.10000038,  39.35000038,\n",
       "        39.60000038,  39.85000038,  40.10000038,  40.35000038,\n",
       "        40.60000038,  40.85000038,  41.10000038,  41.35000038,\n",
       "        41.60000038,  41.85000038,  42.10000038,  42.35000038,\n",
       "        42.60000038,  42.85000038,  43.10000038,  43.35000038,\n",
       "        43.60000038,  43.85000038,  44.10000038,  44.35000038,\n",
       "        44.60000038,  44.85000038,  45.10000038,  45.35000038,\n",
       "        45.60000038,  45.85000038,  46.10000038,  46.35000038,\n",
       "        46.60000038,  46.85000038,  47.10000038,  47.35000038,\n",
       "        47.60000038,  47.85000038,  48.10000038,  48.35000038,\n",
       "        48.60000038,  48.85000038,  49.10000038,  49.35000038,\n",
       "        49.60000038,  49.85000038,  50.10000038,  50.35000038,\n",
       "        50.60000038,  50.85000038,  51.10000038,  51.35000038,\n",
       "        51.60000038,  51.85000038,  52.10000038,  52.35000038,\n",
       "        52.60000038,  52.85000038,  53.10000038,  53.35000038,\n",
       "        53.60000038,  53.85000038,  54.10000038,  54.35000038,\n",
       "        54.60000038,  54.85000038,  55.10000038,  55.35000038,\n",
       "        55.60000038,  55.85000038,  56.10000038,  56.35000038,\n",
       "        56.60000038,  56.85000038,  57.10000038,  57.35000038,\n",
       "        57.60000038,  57.85000038,  58.10000038,  58.35000038,\n",
       "        58.60000038,  58.85000038,  59.10000038,  59.35000038,\n",
       "        59.60000038,  59.85000038,  60.10000038,  60.35000038,\n",
       "        60.60000038,  60.85000038,  61.10000038,  61.35000038,\n",
       "        61.60000038,  61.85000038,  62.10000038,  62.35000038,\n",
       "        62.60000038,  62.85000038,  63.10000038,  63.35000038,\n",
       "        63.60000038,  63.85000038,  64.10000038,  64.35000038,\n",
       "        64.60000038,  64.85000038,  65.10000038,  65.35000038,\n",
       "        65.60000038,  65.85000038,  66.10000038,  66.35000038,\n",
       "        66.60000038,  66.85000038,  67.10000038,  67.35000038,\n",
       "        67.60000038,  67.85000038,  68.10000038,  68.35000038,\n",
       "        68.60000038,  68.85000038,  69.10000038,  69.35000038,\n",
       "        69.60000038,  69.85000038,  70.10000038,  70.35000038,\n",
       "        70.60000038,  70.85000038,  71.10000038,  71.35000038,\n",
       "        71.60000038,  71.85000038,  72.10000038,  72.35000038,\n",
       "        72.60000038,  72.85000038,  73.10000038,  73.35000038,\n",
       "        73.60000038,  73.85000038,  74.10000038,  74.35000038,\n",
       "        74.60000038,  74.85000038,  75.10000038,  75.35000038,\n",
       "        75.60000038,  75.85000038,  76.10000038,  76.35000038,\n",
       "        76.60000038,  76.85000038,  77.10000038,  77.35000038,\n",
       "        77.60000038,  77.85000038,  78.10000038,  78.35000038,\n",
       "        78.60000038,  78.85000038,  79.10000038,  79.35000038,\n",
       "        79.60000038,  79.85000038,  80.10000038,  80.35000038,\n",
       "        80.60000038,  80.85000038,  81.10000038,  81.35000038,\n",
       "        81.60000038,  81.85000038,  82.10000038,  82.35000038,\n",
       "        82.60000038,  82.85000038,  83.10000038,  83.35000038,\n",
       "        83.60000038,  83.85000038,  84.10000038,  84.35000038,\n",
       "        84.60000038,  84.85000038,  85.10000038,  85.35000038,\n",
       "        85.60000038,  85.85000038,  86.10000038,  86.35000038,\n",
       "        86.60000038,  86.85000038,  87.10000038,  87.35000038,\n",
       "        87.60000038,  87.85000038,  88.10000038,  88.35000038,\n",
       "        88.60000038,  88.85000038,  89.10000038,  89.35000038,\n",
       "        89.60000038,  89.85000038,  90.10000038])"
      ]
     },
     "execution_count": 26,
     "metadata": {},
     "output_type": "execute_result"
    },
    {
     "name": "stdout",
     "output_type": "stream",
     "text": [
      "time: 11.2 ms\n"
     ]
    }
   ],
   "source": [
    "mdv.elevation['data']"
   ]
  },
  {
   "cell_type": "code",
   "execution_count": 27,
   "metadata": {
    "collapsed": false,
    "scrolled": true
   },
   "outputs": [
    {
     "data": {
      "text/plain": [
       "{'axis': 'radial_range_coordinate',\n",
       " 'comment': 'Coordinate variable for range. Range to center of each bin.',\n",
       " 'data': array([   117.87839508,    237.79537964,    357.71237183,    477.6293335 ,\n",
       "           597.54632568,    717.46331787,    837.38031006,    957.29730225,\n",
       "          1077.2142334 ,   1197.13122559,   1317.04821777,   1436.96520996,\n",
       "          1556.88220215,   1676.79919434,   1796.71618652,   1916.63317871,\n",
       "          2036.5501709 ,   2156.46704102,   2276.3840332 ,   2396.30102539,\n",
       "          2516.21801758,   2636.13500977,   2756.05200195,   2875.96899414,\n",
       "          2995.88598633,   3115.80297852,   3235.7199707 ,   3355.63696289,\n",
       "          3475.55395508,   3595.47094727,   3715.38793945,   3835.30493164,\n",
       "          3955.22192383,   4075.13891602,   4195.05566406,   4314.97265625,\n",
       "          4434.88964844,   4554.80664062,   4674.72363281,   4794.640625  ,\n",
       "          4914.55761719,   5034.47460938,   5154.39160156,   5274.30859375,\n",
       "          5394.22558594,   5514.14257812,   5634.05957031,   5753.9765625 ,\n",
       "          5873.89355469,   5993.81054688,   6113.72753906,   6233.64453125,\n",
       "          6353.56152344,   6473.47851562,   6593.39550781,   6713.3125    ,\n",
       "          6833.22949219,   6953.14648438,   7073.06347656,   7192.98046875,\n",
       "          7312.89746094,   7432.81445312,   7552.73144531,   7672.6484375 ,\n",
       "          7792.56542969,   7912.48242188,   8032.39941406,   8152.31640625,\n",
       "          8272.23339844,   8392.15039062,   8512.06738281,   8631.984375  ,\n",
       "          8751.90136719,   8871.81835938,   8991.73535156,   9111.65234375,\n",
       "          9231.56933594,   9351.48632812,   9471.40332031,   9591.3203125 ,\n",
       "          9711.23730469,   9831.15429688,   9951.07128906,  10070.98828125,\n",
       "         10190.90527344,  10310.82226562,  10430.73925781,  10550.65625   ,\n",
       "         10670.57324219,  10790.49023438,  10910.40722656,  11030.32421875,\n",
       "         11150.24121094,  11270.15820312,  11390.07519531,  11509.9921875 ,\n",
       "         11629.90917969,  11749.82617188,  11869.74316406,  11989.66015625,\n",
       "         12109.57714844,  12229.49414062,  12349.41113281,  12469.32714844,\n",
       "         12589.24414062,  12709.16113281,  12829.078125  ,  12948.99511719,\n",
       "         13068.91210938,  13188.82910156,  13308.74609375,  13428.66308594,\n",
       "         13548.58007812,  13668.49707031,  13788.4140625 ,  13908.33105469,\n",
       "         14028.24804688,  14148.16503906,  14268.08203125,  14387.99902344,\n",
       "         14507.91601562,  14627.83300781,  14747.75      ,  14867.66699219,\n",
       "         14987.58398438], dtype=float32),\n",
       " 'long_name': 'range_to_measurement_volume',\n",
       " 'meters_between_gates': 119.91698,\n",
       " 'meters_to_center_of_first_gate': 117.8784,\n",
       " 'spacing_is_constant': 'true',\n",
       " 'standard_name': 'projection_range_coordinate',\n",
       " 'units': 'meters'}"
      ]
     },
     "execution_count": 27,
     "metadata": {},
     "output_type": "execute_result"
    },
    {
     "name": "stdout",
     "output_type": "stream",
     "text": [
      "time: 4.2 ms\n"
     ]
    }
   ],
   "source": [
    "mdv.range"
   ]
  },
  {
   "cell_type": "code",
   "execution_count": 28,
   "metadata": {
    "collapsed": false
   },
   "outputs": [
    {
     "data": {
      "text/plain": [
       "1.0"
      ]
     },
     "execution_count": 28,
     "metadata": {},
     "output_type": "execute_result"
    },
    {
     "name": "stdout",
     "output_type": "stream",
     "text": [
      "time: 1.78 ms\n"
     ]
    }
   ],
   "source": [
    "float(mdv.instrument_parameters['radar_beam_width_v']['data'])"
   ]
  },
  {
   "cell_type": "code",
   "execution_count": 29,
   "metadata": {
    "collapsed": false
   },
   "outputs": [
    {
     "name": "stdout",
     "output_type": "stream",
     "text": [
      "time: 986 µs\n"
     ]
    }
   ],
   "source": [
    "sitecoords = (np.float(mdv.longitude['data']),\n",
    "                  np.float(mdv.latitude['data']),\n",
    "                  np.float(mdv.altitude['data']))"
   ]
  },
  {
   "cell_type": "code",
   "execution_count": 30,
   "metadata": {
    "collapsed": false
   },
   "outputs": [
    {
     "name": "stdout",
     "output_type": "stream",
     "text": [
      "time: 1.74 ms\n"
     ]
    }
   ],
   "source": [
    "coord = wrl.georef.sweep_centroids(mdv.nrays, 100,\n",
    "                                   mdv.ngates, mdv.elevation['data'][:, np.newaxis])"
   ]
  },
  {
   "cell_type": "code",
   "execution_count": 31,
   "metadata": {
    "collapsed": false
   },
   "outputs": [
    {
     "name": "stdout",
     "output_type": "stream",
     "text": [
      "time: 50.5 ms\n"
     ]
    }
   ],
   "source": [
    "lona, lata, alta = wrl.georef.polar2lonlatalt_n(\n",
    "            mdv.get_gate_x_y_z(0)[0],  mdv.get_gate_x_y_z(0)[1],\n",
    "            mdv.get_gate_x_y_z(0)[2], sitecoords)"
   ]
  },
  {
   "cell_type": "code",
   "execution_count": 32,
   "metadata": {
    "collapsed": false
   },
   "outputs": [
    {
     "data": {
      "text/plain": [
       "array([[ 36.79619857,  36.79620007,  36.79636891, ...,  36.7937669 ,\n",
       "         36.80840857,  36.8005963 ],\n",
       "       [ 36.79619789,  36.79619623,  36.79637682, ...,  36.77838668,\n",
       "         36.80646998,  36.80166968],\n",
       "       [ 36.7961972 ,  36.79619236,  36.79638444, ...,  36.78131894,\n",
       "         36.79680155,  36.78729511],\n",
       "       ..., \n",
       "       [ 36.79615854,  36.79615924,  36.79615449, ...,  36.79618617,\n",
       "         36.79614873,  36.79613527],\n",
       "       [ 36.7961582 ,  36.79615847,  36.79615668, ...,  36.79611629,\n",
       "         36.79617097,  36.79618704],\n",
       "       [ 36.79615786,  36.79615769,  36.79615888, ...,  36.79618992,\n",
       "         36.79614804,  36.79613568]])"
      ]
     },
     "execution_count": 32,
     "metadata": {},
     "output_type": "execute_result"
    },
    {
     "name": "stdout",
     "output_type": "stream",
     "text": [
      "time: 3.58 ms\n"
     ]
    }
   ],
   "source": [
    "lata"
   ]
  },
  {
   "cell_type": "code",
   "execution_count": 33,
   "metadata": {
    "collapsed": false
   },
   "outputs": [
    {
     "data": {
      "text/plain": [
       "array([[-97.45040434, -97.45059209, -97.45041083, ..., -97.44851832,\n",
       "        -97.4400795 , -97.47470885],\n",
       "       [-97.4504054 , -97.45058737, -97.4504026 , ..., -97.44556859,\n",
       "        -97.43138789, -97.46044549],\n",
       "       [-97.45040647, -97.45058272, -97.45039428, ..., -97.45353086,\n",
       "        -97.44674556, -97.44335012],\n",
       "       ..., \n",
       "       [-97.45054601, -97.45054604, -97.45054581, ..., -97.45037333,\n",
       "        -97.4505989 , -97.45066736],\n",
       "       [-97.450546  , -97.45054601, -97.45054597, ..., -97.45050521,\n",
       "        -97.45055883, -97.45057504],\n",
       "       [-97.450546  , -97.450546  , -97.45054599, ..., -97.45052709,\n",
       "        -97.45055196, -97.45055947]])"
      ]
     },
     "execution_count": 33,
     "metadata": {},
     "output_type": "execute_result"
    },
    {
     "name": "stdout",
     "output_type": "stream",
     "text": [
      "time: 2.65 ms\n"
     ]
    }
   ],
   "source": [
    "lona"
   ]
  },
  {
   "cell_type": "code",
   "execution_count": 34,
   "metadata": {
    "collapsed": false
   },
   "outputs": [
    {
     "data": {
      "text/plain": [
       "array([[  316.54015236,   293.11327143,   281.94800892, ...,\n",
       "         2475.79995918,  1766.6117406 ,   353.48328058],\n",
       "       [  316.44481523,   293.06628486,   282.70915539, ...,\n",
       "         1103.32000704,  -418.20314342, -1597.28229469],\n",
       "       [  316.3510157 ,   293.03042725,   283.49729906, ...,\n",
       "        -1049.22971157, -1827.6764321 , -1532.64168127],\n",
       "       ..., \n",
       "       [  327.48620567,   327.81972599,   327.61565465, ...,\n",
       "          331.10977594,   312.12498124,   339.59235672],\n",
       "       [  327.5573293 ,   327.68240363,   327.60585282, ...,\n",
       "          328.88448972,   321.80673183,   332.11984784],\n",
       "       [  327.62845109,   327.5450674 ,   327.59610307, ...,\n",
       "          326.74559494,   331.46160454,   324.58538128]])"
      ]
     },
     "execution_count": 34,
     "metadata": {},
     "output_type": "execute_result"
    },
    {
     "name": "stdout",
     "output_type": "stream",
     "text": [
      "time: 2.3 ms\n"
     ]
    }
   ],
   "source": [
    "alta"
   ]
  }
 ],
 "metadata": {
  "kernelspec": {
   "display_name": "Python 3",
   "language": "python",
   "name": "python3"
  },
  "language_info": {
   "codemirror_mode": {
    "name": "ipython",
    "version": 3
   },
   "file_extension": ".py",
   "mimetype": "text/x-python",
   "name": "python",
   "nbconvert_exporter": "python",
   "pygments_lexer": "ipython3",
   "version": "3.5.2"
  }
 },
 "nbformat": 4,
 "nbformat_minor": 2
}
